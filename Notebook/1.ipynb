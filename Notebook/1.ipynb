{
 "cells": [
  {
   "cell_type": "code",
   "execution_count": null,
   "id": "66d97ae5",
   "metadata": {},
   "outputs": [],
   "source": [
    "import pandas as pd"
   ]
  },
  {
   "cell_type": "code",
   "execution_count": null,
   "id": "5335a3d6",
   "metadata": {},
   "outputs": [],
   "source": [
    "import pandas as pd   \n",
    "import numpy as np  \n",
    "import matplotlib.pyplot as plt\n",
    "import seaborn as sns"
   ]
  },
  {
   "cell_type": "code",
   "execution_count": null,
   "id": "8d178a2c",
   "metadata": {},
   "outputs": [],
   "source": [
    "pd.read_csv('../data/internet_use.csv', nrows = 4495)\n",
    "\n"
   ]
  },
  {
   "cell_type": "code",
   "execution_count": null,
   "id": "28a19341",
   "metadata": {},
   "outputs": [],
   "source": [
    "gdp_df = pd.read_csv('../data/gdp_percapita.csv')"
   ]
  },
  {
   "cell_type": "code",
   "execution_count": null,
   "id": "230aadaa",
   "metadata": {},
   "outputs": [],
   "source": [
    "print(gdp_df.head())"
   ]
  },
  {
   "cell_type": "code",
   "execution_count": null,
   "id": "c0ed2849",
   "metadata": {},
   "outputs": [],
   "source": [
    "print(\"Number of rows and columns in the DataFrame:\", gdp_df.shape)"
   ]
  },
  {
   "cell_type": "code",
   "execution_count": null,
   "id": "5800de10",
   "metadata": {},
   "outputs": [],
   "source": [
    "print(\"Data types of each column in the DataFrame:\")\n",
    "print(gdp_df.dtypes)"
   ]
  },
  {
   "cell_type": "code",
   "execution_count": null,
   "id": "001004bd",
   "metadata": {},
   "outputs": [],
   "source": [
    "gdp_df = gdp_df.drop('Value Footnotes', axis=1)\n"
   ]
  },
  {
   "cell_type": "code",
   "execution_count": null,
   "id": "8b19d131",
   "metadata": {},
   "outputs": [],
   "source": [
    "gdp_df = gdp_df.rename(columns={'Country Name': 'Country', 'Country Code': 'Code', 'Indicator Name': 'Year', 'Indicator Code': 'GDP_Per_Capita'})\n"
   ]
  },
  {
   "cell_type": "code",
   "execution_count": null,
   "id": "fe957c7b",
   "metadata": {},
   "outputs": [],
   "source": [
    "print(gdp_df.head())"
   ]
  },
  {
   "cell_type": "code",
   "execution_count": null,
   "id": "342378de",
   "metadata": {},
   "outputs": [],
   "source": [
    "gdp_df = gdp_df.rename(columns={'Country Name': 'Country', 'Country Code': 'Code', 'Indicator Name': 'Year', 'Indicator Code': 'GDP_Per_Capita'})\n"
   ]
  },
  {
   "cell_type": "code",
   "execution_count": null,
   "id": "bff3eb16",
   "metadata": {},
   "outputs": [],
   "source": [
    "country_counts = gdp_df.groupby('Country').count()['GDP_Per_Capita']\n"
   ]
  },
  {
   "cell_type": "code",
   "execution_count": null,
   "id": "fac2dc9e",
   "metadata": {},
   "outputs": [],
   "source": []
  }
 ],
 "metadata": {
  "kernelspec": {
   "display_name": "Python 3 (ipykernel)",
   "language": "python",
   "name": "python3"
  },
  "language_info": {
   "codemirror_mode": {
    "name": "ipython",
    "version": 3
   },
   "file_extension": ".py",
   "mimetype": "text/x-python",
   "name": "python",
   "nbconvert_exporter": "python",
   "pygments_lexer": "ipython3",
   "version": "3.9.13"
  }
 },
 "nbformat": 4,
 "nbformat_minor": 5
}
